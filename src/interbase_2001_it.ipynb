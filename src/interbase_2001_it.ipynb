{
 "cells": [
  {
   "cell_type": "code",
   "execution_count": 1,
   "metadata": {},
   "outputs": [],
   "source": [
    "import firebirdsql as kib\n",
    "import pandas as pd\n",
    "import copy as cp"
   ]
  },
  {
   "cell_type": "code",
   "execution_count": 2,
   "metadata": {},
   "outputs": [],
   "source": [
    "#url de exportacion\n",
    "url=\"../datasets_resultantes/interbase_2001/tablas_csv/\"\n",
    "\n",
    "#url de la base de datos\n",
    "urlBD=\"F:/Proyecto_Demografico/datasets_fuentes/INTERBD_2001_06_VF.GDB\"\n",
    "\n",
    "#cargar los datos de acceso para la base de datos\n",
    "dtAcceso = pd.read_csv('accesos.txt',sep=';' ,encoding='utf8')\n",
    "usuario=dtAcceso[(dtAcceso[\"BASE\"]==\"INTERBASE_2001_06\")].iloc[0,1]\n",
    "clave=dtAcceso[(dtAcceso[\"BASE\"]==\"INTERBASE_2001_06\")].iloc[0,2]\n"
   ]
  },
  {
   "cell_type": "code",
   "execution_count": 3,
   "metadata": {},
   "outputs": [],
   "source": [
    "#conexion a la base de datos del 2000\n",
    "conn = kib.connect(\n",
    "    host='192.10.0.7',\n",
    "    database=urlBD,\n",
    "    port=3050,\n",
    "    user=usuario,\n",
    "    password=clave,\n",
    "    charset='UNICODE_FSS'  \n",
    ")"
   ]
  },
  {
   "cell_type": "code",
   "execution_count": null,
   "metadata": {},
   "outputs": [],
   "source": [
    "# definicion del cursor y listar las tablas de la base de datos\n",
    "#cursor para el manejo de las consultas\n",
    "curr = conn.cursor()\n",
    "\n",
    "# listar las tablas de la base de datos\n",
    "curr.execute(\"SELECT RDB$RELATION_NAME FROM RDB$RELATIONS WHERE (RDB$SYSTEM_FLAG <> 1 OR RDB$SYSTEM_FLAG IS NULL) AND RDB$VIEW_BLR IS NULL ORDER BY RDB$RELATION_NAME;\")\n",
    "\n",
    "# resulset asignado a un dataframe\n",
    "df_tablas=pd.DataFrame(curr.fetchall())\n",
    "df_tablas.columns=[\"Tablas\"]\n",
    "\n",
    "print(df_tablas)\n"
   ]
  },
  {
   "cell_type": "code",
   "execution_count": 5,
   "metadata": {},
   "outputs": [],
   "source": [
    "# esta funcion recibe un cursor de las consultas y devuelve el nombre de las columnas o campos\n",
    "# los nombres de las columnas se obtienen de la posicion 0 del arreglo que devuelve \"description\" para cada campo\n",
    "def columnas(cursor:any):\n",
    "    return map( lambda x: x[0],cursor.description)\n"
   ]
  },
  {
   "cell_type": "code",
   "execution_count": 6,
   "metadata": {},
   "outputs": [],
   "source": [
    "# retorna un dataframe de la tabla consultada a partir del parametro recibido\n",
    "def consultaTabla(nombre_tabla:str , campos:str):\n",
    "    #consultar tabla y cargarla en un dataframe\n",
    "    try:\n",
    "        # evaluar si el criterio de consulta es general o especifico\n",
    "        if campos!=\"\":\n",
    "            curr.execute(\"SELECT \"+campos+\" FROM \"+nombre_tabla+\";\")\n",
    "        else:\n",
    "            curr.execute(\"SELECT * FROM \"+nombre_tabla+\";\")\n",
    "\n",
    "        # se utiliza la funcion columnas para obtener la lista de columnas\n",
    "        df_tabla=pd.DataFrame(data=curr.fetchall(),columns= columnas(curr))\n",
    "    except kib.Error as error:\n",
    "        print(\"error en consulta tabla\",error)\n",
    "    return df_tabla  "
   ]
  },
  {
   "cell_type": "code",
   "execution_count": 7,
   "metadata": {},
   "outputs": [],
   "source": [
    "# exportar las tablas a un csv utilizando una funcion \n",
    "# recibe el nombre que recibira el archivo, el dataframe o cuerpo de la tabla y la ubicacion dende se creara el archivo\n",
    "def exportaTabla(nombre_tabla:str,tabla:pd.DataFrame,url:str):\n",
    "    tabla.to_csv(url+'tbl_'+nombre_tabla+'.csv', sep='|',lineterminator=\";\",quotechar='\"',doublequote=True, index=False)"
   ]
  },
  {
   "cell_type": "code",
   "execution_count": 8,
   "metadata": {},
   "outputs": [],
   "source": [
    "#ciclo de exportacion de la tablas\n",
    "# consiste en llamar la funcion \"exportarTabla\" y enviarle como parametro el nombre la tabla, \n",
    "# el dataframe que retorna la funcion \"consultaTabla\" y la url a donde se exportara la tabla consultada\n",
    "def cicloExportacion():\n",
    "    for x in range(0,df_tablas.size,1):\n",
    "        exportaTabla(df_tablas.iloc[x][0],consultaTabla(df_tablas.iloc[x][0],\"\"),url) "
   ]
  },
  {
   "cell_type": "code",
   "execution_count": 9,
   "metadata": {},
   "outputs": [],
   "source": [
    "# completar direccion\n",
    "def completarDir(region1:str,region2:str):\n",
    "    temporal=\"\"\n",
    "        \n",
    "    if len(region1)<2:\n",
    "        temporal+=\"0\"+region1\n",
    "    else:\n",
    "        if int(region1)>=21:\n",
    "            region1=str(int(region1)-20)\n",
    "        if len(region1)<2:\n",
    "            region1=\"0\"+region1\n",
    "        temporal+=region1\n",
    "    \n",
    "    if len(region2)<2:\n",
    "        temporal+=\"0\"+region2\n",
    "    else:\n",
    "        temporal+=region2\n",
    "    return temporal"
   ]
  },
  {
   "cell_type": "code",
   "execution_count": 1,
   "metadata": {},
   "outputs": [],
   "source": [
    "#completar fecha\n",
    "def completarF(fecha1:str,fecha2:str):\n",
    "    temporal=\"\"\n",
    "    if len(fecha1)<4:\n",
    "        temporal=fecha2[4:8]\n",
    "    else:\n",
    "        temporal=fecha1\n",
    "    \n",
    "    if(float(fecha1)>1982):\n",
    "        temporal=fecha2[4:8]\n",
    "\n",
    "    return temporal"
   ]
  },
  {
   "cell_type": "code",
   "execution_count": 11,
   "metadata": {},
   "outputs": [],
   "source": [
    "#verificar direccion\n",
    "def verificarDir(region1:str,region2:str):\n",
    "    temporal=\"\"\n",
    "    if region1[0:2]==\"19\" or region1[2:4]==\"80\" or region1[2:4]==\"90\":\n",
    "        temporal+=region2\n",
    "    else:\n",
    "        temporal+=region1\n",
    "    return temporal\n"
   ]
  },
  {
   "cell_type": "code",
   "execution_count": null,
   "metadata": {},
   "outputs": [],
   "source": [
    "\n",
    "#carga de los dataframes \n",
    "df_DEPARTAMENTOS=consultaTabla(df_tablas.iloc[3][0],\"\")\n",
    "df_MUNICIPIOS=consultaTabla(df_tablas.iloc[6][0],\"\")\n",
    "DF_cuerpo=consultaTabla(df_tablas.iloc[4][0],\" identidad, nombre1,nombre2,apellido1,apellido2,sexo,anonac,mesnac,dianac,depdomi,munidomi\")\n",
    "\n",
    "#obtencion y completarcion de direcciones\n",
    "df_datos=DF_cuerpo.copy()\n",
    "df_datos[df_datos.columns[0]]=df_datos[df_datos.columns[0]].apply(lambda x: \"0\"+str(x) if len(str(x))<13 else str(x) ).astype(str)\n",
    "df_datos[\"LUDOMI\"]=list(map(completarDir,df_datos[df_datos.columns[9]].astype(str),df_datos[df_datos.columns[10]].astype(str)))\n",
    "#df_datos[\"LUNAC\"]=df_datos[df_datos.columns[0]].apply(lambda x: str(x)[0:4]).astype(str)\n",
    "df_datos[\"LUNAC\"]=df_datos[df_datos.columns[0]].apply(lambda x: completarDir(str(x)[0:2],str(x)[2:4])).astype(str)\n",
    "df_datos[\"DEPNAC\"]=df_datos[df_datos.columns[0]].apply(lambda x: str(x)[0:2]).astype(int)\n",
    "df_datos[\"MUNINAC\"]=df_datos[df_datos.columns[0]].apply(lambda x: str(x)[2:4]).astype(int)\n",
    "df_MUNICIPIOS[\"LUDIR\"]=list(map(completarDir,df_MUNICIPIOS[df_MUNICIPIOS.columns[0]].astype(str),df_MUNICIPIOS[df_MUNICIPIOS.columns[1]].astype(str)))\n",
    "\n",
    "#limpieza, completacion y conversion de datos\n",
    "df_datos[df_datos.columns[7]]=df_datos[df_datos.columns[7]].fillna(0)\n",
    "df_datos[df_datos.columns[5]]=df_datos[df_datos.columns[5]].fillna(0)\n",
    "df_datos[df_datos.columns[5]]=df_datos[df_datos.columns[5]].astype(float).astype(int)\n",
    "df_datos[df_datos.columns[7]]=df_datos[df_datos.columns[7]].astype(int)\n",
    "df_datos[df_datos.columns[8]]=df_datos[df_datos.columns[8]].fillna(0)\n",
    "df_datos[df_datos.columns[8]]=df_datos[df_datos.columns[8]].astype(int)\n",
    "df_datos[df_datos.columns[6]]=df_datos[df_datos.columns[6]].fillna(0)\n",
    "df_datos[df_datos.columns[6]]=list(map(completarF,df_datos[df_datos.columns[6]].astype(str),df_datos[df_datos.columns[0]].astype(str)))\n",
    "df_datos[df_datos.columns[6]]=df_datos[df_datos.columns[6]].astype(float).astype(int)\n",
    "df_datos[df_datos.columns[12]]=list(map(verificarDir,df_datos[df_datos.columns[12]].astype(str),df_datos[df_datos.columns[11]].astype(str)))\n",
    "df_datos[df_datos.columns[13]]=df_datos[df_datos.columns[13]].apply(lambda x: x-20 if x>20 else x)\n",
    "df_datos[df_datos.columns[1]]=df_datos[df_datos.columns[1]].apply(lambda x: str(x).strip(\".,0123456789-=`;@¦\"))\n",
    "df_datos[df_datos.columns[2]]=df_datos[df_datos.columns[2]].apply(lambda x: str(x).strip(\".,0123456789-=`;@¦\"))\n",
    "df_datos[df_datos.columns[3]]=df_datos[df_datos.columns[3]].apply(lambda x: str(x).strip(\".,0123456789-=`;@¦\"))\n",
    "df_datos[df_datos.columns[4]]=df_datos[df_datos.columns[4]].apply(lambda x: str(x).strip(\".,0123456789-=`;@¦\"))\n",
    "#del df_datos[df_datos.columns[0]]\n",
    "df_datos.info()\n",
    "print(df_datos.head(3))"
   ]
  },
  {
   "cell_type": "code",
   "execution_count": 54,
   "metadata": {},
   "outputs": [],
   "source": [
    "# exportar dataFrame, datos, departamentos, municipios\n",
    "exportaTabla(\"DEPARTAMENTOS_VF\",df_DEPARTAMENTOS,url)\n",
    "exportaTabla(\"MUNICIPIOS_VF\",df_MUNICIPIOS,url)\n",
    "exportaTabla(\"DATOS_2001\",df_datos,url)"
   ]
  },
  {
   "cell_type": "code",
   "execution_count": 12,
   "metadata": {},
   "outputs": [],
   "source": [
    "#cerra las conexiones abiertas\n",
    "conn.close()"
   ]
  }
 ],
 "metadata": {
  "kernelspec": {
   "display_name": "Python 3",
   "language": "python",
   "name": "python3"
  },
  "language_info": {
   "codemirror_mode": {
    "name": "ipython",
    "version": 3
   },
   "file_extension": ".py",
   "mimetype": "text/x-python",
   "name": "python",
   "nbconvert_exporter": "python",
   "pygments_lexer": "ipython3",
   "version": "3.8.0"
  },
  "orig_nbformat": 4,
  "vscode": {
   "interpreter": {
    "hash": "b21e4e9f57da6de5e8899a1d616f8a2311d1c56bb1bf08df6fadcdd286c87dc8"
   }
  }
 },
 "nbformat": 4,
 "nbformat_minor": 2
}
